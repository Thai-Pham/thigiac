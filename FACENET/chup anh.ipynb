{
 "cells": [
  {
   "cell_type": "code",
   "execution_count": 6,
   "metadata": {},
   "outputs": [],
   "source": [
    "import cv2\n",
    "import ipywidgets as widgets\n",
    "from IPython.display import display, clear_output\n",
    "import os"
   ]
  },
  {
   "cell_type": "code",
   "execution_count": 7,
   "metadata": {},
   "outputs": [
    {
     "data": {
      "application/vnd.jupyter.widget-view+json": {
       "model_id": "740a4b1309964fb499ba5c436bb1bbce",
       "version_major": 2,
       "version_minor": 0
      },
      "text/plain": [
       "Text(value='', placeholder='Nhập tên của bạn')"
      ]
     },
     "metadata": {},
     "output_type": "display_data"
    },
    {
     "data": {
      "application/vnd.jupyter.widget-view+json": {
       "model_id": "176b4c417e0e41018b93bed846e70ecb",
       "version_major": 2,
       "version_minor": 0
      },
      "text/plain": [
       "Button(description='Chụp ảnh', style=ButtonStyle())"
      ]
     },
     "metadata": {},
     "output_type": "display_data"
    },
    {
     "data": {
      "application/vnd.jupyter.widget-view+json": {
       "model_id": "5b3db79b8d15431eaa1eabacbc11e001",
       "version_major": 2,
       "version_minor": 0
      },
      "text/plain": [
       "Image(value=b'')"
      ]
     },
     "metadata": {},
     "output_type": "display_data"
    },
    {
     "ename": "FileNotFoundError",
     "evalue": "[Errno 2] No such file or directory: '/duLieu\\\\qs.jpg'",
     "output_type": "error",
     "traceback": [
      "\u001b[1;31m---------------------------------------------------------------------------\u001b[0m",
      "\u001b[1;31mFileNotFoundError\u001b[0m                         Traceback (most recent call last)",
      "\u001b[1;32m<ipython-input-7-6ce885e6f64e>\u001b[0m in \u001b[0;36mcapture_and_save_image\u001b[1;34m(btn)\u001b[0m\n\u001b[0;32m     14\u001b[0m \u001b[1;33m\u001b[0m\u001b[0m\n\u001b[0;32m     15\u001b[0m     \u001b[1;31m# Hiển thị ảnh đã chụp\u001b[0m\u001b[1;33m\u001b[0m\u001b[1;33m\u001b[0m\u001b[1;33m\u001b[0m\u001b[0m\n\u001b[1;32m---> 16\u001b[1;33m     \u001b[0mimg_widget\u001b[0m\u001b[1;33m.\u001b[0m\u001b[0mvalue\u001b[0m \u001b[1;33m=\u001b[0m \u001b[0mopen\u001b[0m\u001b[1;33m(\u001b[0m\u001b[0mfile_path\u001b[0m\u001b[1;33m,\u001b[0m \u001b[1;34m'rb'\u001b[0m\u001b[1;33m)\u001b[0m\u001b[1;33m.\u001b[0m\u001b[0mread\u001b[0m\u001b[1;33m(\u001b[0m\u001b[1;33m)\u001b[0m\u001b[1;33m\u001b[0m\u001b[1;33m\u001b[0m\u001b[0m\n\u001b[0m\u001b[0;32m     17\u001b[0m \u001b[1;33m\u001b[0m\u001b[0m\n\u001b[0;32m     18\u001b[0m     \u001b[1;31m# Đóng webcam\u001b[0m\u001b[1;33m\u001b[0m\u001b[1;33m\u001b[0m\u001b[1;33m\u001b[0m\u001b[0m\n",
      "\u001b[1;31mFileNotFoundError\u001b[0m: [Errno 2] No such file or directory: '/duLieu\\\\qs.jpg'"
     ]
    }
   ],
   "source": [
    "def capture_and_save_image(btn):\n",
    "    # Lấy tên từ người dùng\n",
    "    name = text_input.value\n",
    "    \n",
    "    # Khởi tạo webcam\n",
    "    capture = cv2.VideoCapture(0)\n",
    "    \n",
    "    # Đọc khung hình từ webcam\n",
    "    ret, frame = capture.read()\n",
    "    \n",
    "    # Lưu ảnh vào thư mục với tên đã nhập\n",
    "    file_path = os.path.join(folder_path, f\"{name}.jpg\")\n",
    "    cv2.imwrite(file_path, frame)\n",
    "    \n",
    "    # Hiển thị ảnh đã chụp\n",
    "    img_widget.value = open(file_path, 'rb').read()\n",
    "    \n",
    "    # Đóng webcam\n",
    "    capture.release()\n",
    "    \n",
    "    print(f\"Đã lưu ảnh vào: {file_path}\")\n",
    "\n",
    "# Đường dẫn thư mục lưu ảnh\n",
    "folder_path = '/duLieu'\n",
    "\n",
    "# Tạo widget nhập tên\n",
    "text_input = widgets.Text(placeholder='Nhập tên của bạn')\n",
    "display(text_input)\n",
    "\n",
    "# Tạo nút bấm để chụp ảnh\n",
    "button = widgets.Button(description='Chụp ảnh')\n",
    "display(button)\n",
    "\n",
    "# Tạo widget hiển thị ảnh\n",
    "img_widget = widgets.Image()\n",
    "display(img_widget)\n",
    "\n",
    "# Gán sự kiện cho nút bấm\n",
    "button.on_click(capture_and_save_image)\n"
   ]
  },
  {
   "cell_type": "code",
   "execution_count": null,
   "metadata": {},
   "outputs": [],
   "source": []
  }
 ],
 "metadata": {
  "kernelspec": {
   "display_name": "Python 3",
   "language": "python",
   "name": "python3"
  },
  "language_info": {
   "codemirror_mode": {
    "name": "ipython",
    "version": 3
   },
   "file_extension": ".py",
   "mimetype": "text/x-python",
   "name": "python",
   "nbconvert_exporter": "python",
   "pygments_lexer": "ipython3",
   "version": "3.8.5"
  }
 },
 "nbformat": 4,
 "nbformat_minor": 4
}
