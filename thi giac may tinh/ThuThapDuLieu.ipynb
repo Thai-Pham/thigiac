{
 "cells": [
  {
   "cell_type": "code",
   "execution_count": 11,
   "metadata": {},
   "outputs": [],
   "source": [
    "import os\n",
    "import cv2"
   ]
  },
  {
   "cell_type": "code",
   "execution_count": 12,
   "metadata": {},
   "outputs": [],
   "source": [
    "dataset_folder = \"C:/Users/ADMIN/Downloads/thi giac may tinh/dataset/\"\n",
    "\n",
    "cap = cv2.VideoCapture(0)\n",
    "\n",
    "my_name = \"Pham Gia Thai\"\n",
    "os.mkdir(dataset_folder + my_name)\n",
    "num_sample = 90\n",
    "\n",
    "i = 0\n",
    "while cap.isOpened():\n",
    "    ret, frame = cap.read()\n",
    "    \n",
    "    if ret :\n",
    "        cv2.imshow(\"Capture Photo\", frame)\n",
    "        cv2.imwrite(\"dataset/%s/%s_%04d.jpg\" %  (my_name, my_name, i), cv2.resize(frame, (250,250)))\n",
    "        \n",
    "        if cv2.waitKey(1000) == ord('q') or i == num_sample:\n",
    "            break\n",
    "        i += 1    \n",
    "cap.release()\n",
    "cv2.destroyAllWindows()"
   ]
  },
  {
   "cell_type": "code",
   "execution_count": null,
   "metadata": {},
   "outputs": [],
   "source": []
  }
 ],
 "metadata": {
  "kernelspec": {
   "display_name": "Python 3",
   "language": "python",
   "name": "python3"
  },
  "language_info": {
   "codemirror_mode": {
    "name": "ipython",
    "version": 3
   },
   "file_extension": ".py",
   "mimetype": "text/x-python",
   "name": "python",
   "nbconvert_exporter": "python",
   "pygments_lexer": "ipython3",
   "version": "3.8.5"
  },
  "vscode": {
   "interpreter": {
    "hash": "b8d9822695605295357a5addd85673a250417bda2858713cc1a13981c7be1f87"
   }
  }
 },
 "nbformat": 4,
 "nbformat_minor": 2
}
